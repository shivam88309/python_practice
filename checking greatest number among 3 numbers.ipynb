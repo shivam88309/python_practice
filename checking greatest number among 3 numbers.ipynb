{
 "cells": [
  {
   "cell_type": "code",
   "execution_count": 2,
   "id": "12dd8d7b-03bb-4876-ab66-cadac1c2719f",
   "metadata": {},
   "outputs": [
    {
     "name": "stdin",
     "output_type": "stream",
     "text": [
      "First Number 10\n",
      "Second Number 20\n",
      "Third Number 30\n"
     ]
    },
    {
     "name": "stdout",
     "output_type": "stream",
     "text": [
      "Greatest number is: 30\n"
     ]
    }
   ],
   "source": [
    "a=int(input(\"First Number\"))\n",
    "b=int(input(\"Second Number\"))\n",
    "c=int(input(\"Third Number\"))\n",
    "if a>b and a>c:\n",
    "      print (\"Greatest number is:\",a)\n",
    "elif b>a and b>c:\n",
    "      print (\"Greatest number is:\",b)\n",
    "elif c>a and c>b:\n",
    "      print (\"Greatest number is:\",c)"
   ]
  },
  {
   "cell_type": "code",
   "execution_count": null,
   "id": "efa16cb2-2657-4040-864d-8d599f236d90",
   "metadata": {},
   "outputs": [],
   "source": []
  }
 ],
 "metadata": {
  "kernelspec": {
   "display_name": "Python 3 (ipykernel)",
   "language": "python",
   "name": "python3"
  },
  "language_info": {
   "codemirror_mode": {
    "name": "ipython",
    "version": 3
   },
   "file_extension": ".py",
   "mimetype": "text/x-python",
   "name": "python",
   "nbconvert_exporter": "python",
   "pygments_lexer": "ipython3",
   "version": "3.12.4"
  }
 },
 "nbformat": 4,
 "nbformat_minor": 5
}
