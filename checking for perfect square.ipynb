{
 "cells": [
  {
   "cell_type": "code",
   "execution_count": 9,
   "id": "77cc3a20-dee6-4a19-bf1e-973c29b8fe24",
   "metadata": {},
   "outputs": [
    {
     "name": "stdin",
     "output_type": "stream",
     "text": [
      "Number for checking perfect square 9\n"
     ]
    },
    {
     "name": "stdout",
     "output_type": "stream",
     "text": [
      "No, the number is not a perfect square\n"
     ]
    }
   ],
   "source": [
    "a=int(input(\"Number for checking perfect square\"))\n",
    "n=0\n",
    "if a%2==n:\n",
    "    print (\"Yes, the number is perfect square\")\n",
    "else:\n",
    "    print (\"No, the number is not a perfect square\")"
   ]
  },
  {
   "cell_type": "code",
   "execution_count": 6,
   "id": "9451d4e2-5e01-45a6-84f5-02588cee82cc",
   "metadata": {},
   "outputs": [
    {
     "data": {
      "text/plain": [
       "1"
      ]
     },
     "execution_count": 6,
     "metadata": {},
     "output_type": "execute_result"
    }
   ],
   "source": [
    "5%2"
   ]
  },
  {
   "cell_type": "code",
   "execution_count": 7,
   "id": "013f9623-7e78-4e14-b338-42958df78052",
   "metadata": {},
   "outputs": [
    {
     "data": {
      "text/plain": [
       "0"
      ]
     },
     "execution_count": 7,
     "metadata": {},
     "output_type": "execute_result"
    }
   ],
   "source": [
    "4%2"
   ]
  },
  {
   "cell_type": "code",
   "execution_count": 10,
   "id": "ef084c74-b2a9-46f8-a9a9-41088f9c9f43",
   "metadata": {},
   "outputs": [
    {
     "data": {
      "text/plain": [
       "1"
      ]
     },
     "execution_count": 10,
     "metadata": {},
     "output_type": "execute_result"
    }
   ],
   "source": [
    "9%2"
   ]
  },
  {
   "cell_type": "code",
   "execution_count": 13,
   "id": "b95767a3-20fe-4557-9e33-e4e2f85ad1f5",
   "metadata": {},
   "outputs": [
    {
     "name": "stdin",
     "output_type": "stream",
     "text": [
      " 81\n"
     ]
    },
    {
     "name": "stdout",
     "output_type": "stream",
     "text": [
      "81 is a perfect square.\n"
     ]
    }
   ],
   "source": [
    "def is_perfect_square(n):\n",
    "    if n < 0:\n",
    "        return False\n",
    "    sum_of_odds = 0\n",
    "    odd_number = 1\n",
    "    while sum_of_odds < n:\n",
    "        sum_of_odds += odd_number\n",
    "        odd_number += 2\n",
    "    return sum_of_odds == n\n",
    "\n",
    "# Test the function\n",
    "number = int(input())\n",
    "if is_perfect_square(number):\n",
    "    print(f\"{number} is a perfect square.\")\n",
    "else:\n",
    "    print(f\"{number} is not a perfect square.\")\n"
   ]
  },
  {
   "cell_type": "code",
   "execution_count": null,
   "id": "6188d748-ec8b-45c6-8dea-1d457992490b",
   "metadata": {},
   "outputs": [],
   "source": []
  }
 ],
 "metadata": {
  "kernelspec": {
   "display_name": "Python 3 (ipykernel)",
   "language": "python",
   "name": "python3"
  },
  "language_info": {
   "codemirror_mode": {
    "name": "ipython",
    "version": 3
   },
   "file_extension": ".py",
   "mimetype": "text/x-python",
   "name": "python",
   "nbconvert_exporter": "python",
   "pygments_lexer": "ipython3",
   "version": "3.12.4"
  }
 },
 "nbformat": 4,
 "nbformat_minor": 5
}
