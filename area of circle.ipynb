{
 "cells": [
  {
   "cell_type": "code",
   "execution_count": 2,
   "id": "55e350b6-723e-4016-8d5d-3a52164d63a1",
   "metadata": {},
   "outputs": [
    {
     "name": "stdin",
     "output_type": "stream",
     "text": [
      "Radius of the circle: 5\n"
     ]
    },
    {
     "data": {
      "text/plain": [
       "78.53981633974483"
      ]
     },
     "execution_count": 2,
     "metadata": {},
     "output_type": "execute_result"
    }
   ],
   "source": [
    "r=int(input(\"Radius of the circle:\"))\n",
    "import math\n",
    "a_1=math.pi*r*r"
   ]
  },
  {
   "cell_type": "code",
   "execution_count": 1,
   "id": "3a88613d-d1a2-43c6-a096-58de3b8b6152",
   "metadata": {},
   "outputs": [
    {
     "name": "stdin",
     "output_type": "stream",
     "text": [
      " 66\n",
      " 55\n",
      " 44\n",
      " 33\n"
     ]
    },
    {
     "name": "stdout",
     "output_type": "stream",
     "text": [
      "Coordinates 99.0\n"
     ]
    }
   ],
   "source": [
    "x1=int(input())\n",
    "x2=int(input())\n",
    "y1=int(input())\n",
    "y2=int(input())\n",
    "c=((x1+x2)/2+(y1+y2)/2)\n",
    "print(\"Coordinates\",c)"
   ]
  },
  {
   "cell_type": "code",
   "execution_count": null,
   "id": "3bc658f2-6af7-4914-8979-1d6106045631",
   "metadata": {},
   "outputs": [],
   "source": []
  }
 ],
 "metadata": {
  "kernelspec": {
   "display_name": "Python 3 (ipykernel)",
   "language": "python",
   "name": "python3"
  },
  "language_info": {
   "codemirror_mode": {
    "name": "ipython",
    "version": 3
   },
   "file_extension": ".py",
   "mimetype": "text/x-python",
   "name": "python",
   "nbconvert_exporter": "python",
   "pygments_lexer": "ipython3",
   "version": "3.12.4"
  }
 },
 "nbformat": 4,
 "nbformat_minor": 5
}
