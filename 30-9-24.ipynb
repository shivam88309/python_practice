{
 "cells": [
  {
   "cell_type": "code",
   "execution_count": 5,
   "id": "f675d920-d360-42b2-9b88-928a96abd3eb",
   "metadata": {},
   "outputs": [
    {
     "name": "stdin",
     "output_type": "stream",
     "text": [
      "Salary: 10000\n",
      "Amount he pays to the bank: 5000\n",
      "Hostel fees: 4000\n",
      "Food expenses: 1500\n",
      "Amount he sends to his family: 4000\n"
     ]
    },
    {
     "name": "stdout",
     "output_type": "stream",
     "text": [
      "he wants to work hard\n"
     ]
    }
   ],
   "source": [
    "a1=int(input(\"Salary:\"))\n",
    "a2=int(input(\"Amount he pays to the bank:\"))\n",
    "a3=int(input(\"Hostel fees:\"))\n",
    "a4=int(input(\"Food expenses:\"))\n",
    "a5=int(input(\"Amount he sends to his family:\"))\n",
    "e=a2+a3+a4+a5\n",
    "if a1>e:\n",
    "    print (\"he can save money\")\n",
    "elif (a1-e)==0:\n",
    "    print (\"he can manage the expenses\")\n",
    "else:\n",
    "    print (\"he wants to work hard\")"
   ]
  },
  {
   "cell_type": "code",
   "execution_count": 2,
   "id": "6f194e8f-0dbc-49b8-ab64-82f2e4be1245",
   "metadata": {},
   "outputs": [
    {
     "name": "stdin",
     "output_type": "stream",
     "text": [
      " 1000\n",
      " 60\n",
      " 80\n",
      " 900\n",
      " 50\n",
      " 30\n",
      " 1000\n",
      " 10\n",
      " 200\n"
     ]
    },
    {
     "name": "stdout",
     "output_type": "stream",
     "text": [
      "In flipkart price is : 480.0\n",
      "In snapdeal price is : 480.0\n",
      "In amazon price is : 1100.0\n",
      "He will buy from Flipkart\n"
     ]
    }
   ],
   "source": [
    "#2_calculate the price of the shirt\n",
    "flipkart_price = int(input())\n",
    "flipkart_discount = int(input())\n",
    "flipkart_shipcharge = int(input())\n",
    "snapdeal_price = int(input())\n",
    "snapdeal_discount = int(input())\n",
    "snapdeal_shipcharge = int(input())\n",
    "amazon_price = int(input())\n",
    "amazon_discount = int(input())\n",
    "amazon_shipcharge = int(input())\n",
    "f = flipkart_price + flipkart_shipcharge - ((flipkart_discount)/100)*flipkart_price\n",
    "s = snapdeal_price + snapdeal_shipcharge - ((snapdeal_discount)/100)*snapdeal_price\n",
    "a = amazon_price + amazon_shipcharge - ((amazon_discount)/100)*amazon_price\n",
    "print(\"In flipkart price is :\", f)\n",
    "print(\"In snapdeal price is :\", s)\n",
    "print(\"In amazon price is :\", a)\n",
    "if f<=s and f<=a:\n",
    "    print(\"He will buy from Flipkart\")\n",
    "elif s<=f and s<=a:\n",
    "    print(\"He will buy from Snapdeal\")\n",
    "elif a<=s and a<=f:\n",
    "    print(\"He will buy from Amazon\")\n",
    "else:\n",
    "    print(\"invalid\")"
   ]
  }
 ],
 "metadata": {
  "kernelspec": {
   "display_name": "Python 3 (ipykernel)",
   "language": "python",
   "name": "python3"
  },
  "language_info": {
   "codemirror_mode": {
    "name": "ipython",
    "version": 3
   },
   "file_extension": ".py",
   "mimetype": "text/x-python",
   "name": "python",
   "nbconvert_exporter": "python",
   "pygments_lexer": "ipython3",
   "version": "3.12.4"
  }
 },
 "nbformat": 4,
 "nbformat_minor": 5
}
