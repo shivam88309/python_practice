{
 "cells": [
  {
   "cell_type": "code",
   "execution_count": 1,
   "id": "dabb3387-fd67-4a02-9601-c1550fc9e7aa",
   "metadata": {
    "scrolled": true
   },
   "outputs": [
    {
     "name": "stdin",
     "output_type": "stream",
     "text": [
      "Current speed 56\n",
      "Distance to the light 2\n",
      "Time until it turns red 4\n"
     ]
    },
    {
     "name": "stdout",
     "output_type": "stream",
     "text": [
      "No, it cannot cross the road with current speed.\n"
     ]
    }
   ],
   "source": [
    "#calculating if the car will cross the signal on time or not.\n",
    "a=float(input(\"Current speed\"))\n",
    "b=float(input(\"Distance to the light\"))\n",
    "c=float(input(\"Time until it turns red\"))\n",
    "d=b*c\n",
    "if a>d:\n",
    "    print(\"Yes, it will cross the signal on time.\")\n",
    "else:\n",
    "    print(\"No, it cannot cross the road with current speed.\")"
   ]
  },
  {
   "cell_type": "code",
   "execution_count": 3,
   "id": "0620e2d5-d5e7-4d8e-8978-6cd1ea3f1a1a",
   "metadata": {},
   "outputs": [
    {
     "name": "stdin",
     "output_type": "stream",
     "text": [
      "Student type msh\n",
      "Tuition fees 465\n",
      "Bus fees 4546\n",
      "Hostel fees 654\n"
     ]
    },
    {
     "name": "stdout",
     "output_type": "stream",
     "text": [
      "msh\n"
     ]
    }
   ],
   "source": [
    "#calculate the fees of different types of student.\n",
    "a=str(input(\"Student type\"))\n",
    "b=float(input(\"Tuition fees\"))\n",
    "c=float(input(\"Bus fees\"))\n",
    "d=float(input(\"Hostel fees\"))\n"
   ]
  },
  {
   "cell_type": "code",
   "execution_count": null,
   "id": "90f591c3-9ed4-4e24-bd68-07cf4ea677d5",
   "metadata": {},
   "outputs": [],
   "source": []
  }
 ],
 "metadata": {
  "kernelspec": {
   "display_name": "Python 3 (ipykernel)",
   "language": "python",
   "name": "python3"
  },
  "language_info": {
   "codemirror_mode": {
    "name": "ipython",
    "version": 3
   },
   "file_extension": ".py",
   "mimetype": "text/x-python",
   "name": "python",
   "nbconvert_exporter": "python",
   "pygments_lexer": "ipython3",
   "version": "3.12.4"
  }
 },
 "nbformat": 4,
 "nbformat_minor": 5
}
