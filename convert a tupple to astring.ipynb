{
 "cells": [
  {
   "cell_type": "code",
   "execution_count": null,
   "id": "c68008ce-b17f-4601-87d8-4ad7377baf5f",
   "metadata": {},
   "outputs": [],
   "source": [
    "b=input()\n",
    "a=[]\n",
    "a.extend(b)\n",
    "tup=tuple(a)\n",
    "print(tup)\n",
    "print(b)"
   ]
  },
  {
   "cell_type": "code",
   "execution_count": null,
   "id": "4a15d34e-079a-4efe-a60e-9f3683a1ee3a",
   "metadata": {},
   "outputs": [],
   "source": []
  }
 ],
 "metadata": {
  "kernelspec": {
   "display_name": "Python 3 (ipykernel)",
   "language": "python",
   "name": "python3"
  },
  "language_info": {
   "codemirror_mode": {
    "name": "ipython",
    "version": 3
   },
   "file_extension": ".py",
   "mimetype": "text/x-python",
   "name": "python",
   "nbconvert_exporter": "python",
   "pygments_lexer": "ipython3",
   "version": "3.12.4"
  }
 },
 "nbformat": 4,
 "nbformat_minor": 5
}
