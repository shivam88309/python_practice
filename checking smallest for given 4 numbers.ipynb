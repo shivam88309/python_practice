{
 "cells": [
  {
   "cell_type": "code",
   "execution_count": 4,
   "id": "4da9dc00-82c6-459d-a576-7ab947e6ed0e",
   "metadata": {},
   "outputs": [
    {
     "name": "stdin",
     "output_type": "stream",
     "text": [
      "First Number 60\n",
      "Second Number 50\n",
      "Third Number 40\n",
      "Fourth Number 30\n"
     ]
    },
    {
     "name": "stdout",
     "output_type": "stream",
     "text": [
      "Smallest number is: 30\n"
     ]
    }
   ],
   "source": [
    "a=int(input(\"First Number\"))\n",
    "b=int(input(\"Second Number\"))\n",
    "c=int(input(\"Third Number\"))\n",
    "d=int(input(\"Fourth Number\"))\n",
    "if a<b and a<c and a<d:\n",
    "      print (\"Smallest number is:\",a)\n",
    "elif b<a and b<c and b<d:\n",
    "      print (\"Smallest number is:\",b)\n",
    "elif c<a and c<b and c<d:\n",
    "      print (\"Smallest number is:\",c)\n",
    "else:\n",
    "    print (\"Smallest number is:\",d)"
   ]
  }
 ],
 "metadata": {
  "kernelspec": {
   "display_name": "Python 3 (ipykernel)",
   "language": "python",
   "name": "python3"
  },
  "language_info": {
   "codemirror_mode": {
    "name": "ipython",
    "version": 3
   },
   "file_extension": ".py",
   "mimetype": "text/x-python",
   "name": "python",
   "nbconvert_exporter": "python",
   "pygments_lexer": "ipython3",
   "version": "3.12.4"
  }
 },
 "nbformat": 4,
 "nbformat_minor": 5
}
