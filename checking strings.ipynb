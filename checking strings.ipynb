{
 "cells": [
  {
   "cell_type": "code",
   "execution_count": 2,
   "id": "e3c3aca0-e969-427e-aaa4-2100b886c646",
   "metadata": {},
   "outputs": [
    {
     "name": "stdout",
     "output_type": "stream",
     "text": [
      "doesn't\n"
     ]
    }
   ],
   "source": [
    "print (\"doesn't\")\n"
   ]
  },
  {
   "cell_type": "code",
   "execution_count": 3,
   "id": "1c726014-23ad-4072-a972-ea2de2114a28",
   "metadata": {},
   "outputs": [
    {
     "name": "stdout",
     "output_type": "stream",
     "text": [
      "doesn't\n"
     ]
    }
   ],
   "source": [
    "print ('doesn\\'t')\n"
   ]
  },
  {
   "cell_type": "code",
   "execution_count": 4,
   "id": "871e104f-f221-4d8b-9228-495bd064aa61",
   "metadata": {},
   "outputs": [
    {
     "name": "stdout",
     "output_type": "stream",
     "text": [
      "'\"Yes\", he said.'\n"
     ]
    }
   ],
   "source": [
    "print ('\\'\"Yes\", he said.\\'')"
   ]
  },
  {
   "cell_type": "code",
   "execution_count": null,
   "id": "0abd41eb-3681-4897-96ac-025fdc313795",
   "metadata": {},
   "outputs": [],
   "source": []
  }
 ],
 "metadata": {
  "kernelspec": {
   "display_name": "Python 3 (ipykernel)",
   "language": "python",
   "name": "python3"
  },
  "language_info": {
   "codemirror_mode": {
    "name": "ipython",
    "version": 3
   },
   "file_extension": ".py",
   "mimetype": "text/x-python",
   "name": "python",
   "nbconvert_exporter": "python",
   "pygments_lexer": "ipython3",
   "version": "3.12.4"
  }
 },
 "nbformat": 4,
 "nbformat_minor": 5
}
